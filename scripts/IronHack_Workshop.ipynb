{
  "nbformat": 4,
  "nbformat_minor": 0,
  "metadata": {
    "colab": {
      "provenance": [],
      "collapsed_sections": []
    },
    "kernelspec": {
      "name": "python3",
      "display_name": "Python 3"
    },
    "language_info": {
      "name": "python"
    },
    "accelerator": "GPU"
  },
  "cells": [
    {
      "cell_type": "code",
      "execution_count": 1,
      "metadata": {
        "id": "5qXgZR752Jg9"
      },
      "outputs": [],
      "source": [
        "from tensorflow.keras.datasets import mnist\n",
        "from tensorflow import keras \n",
        "from tensorflow.keras import layers"
      ]
    },
    {
      "cell_type": "code",
      "source": [
        "(train_images, train_labels), (test_images, test_labels) = mnist.load_data()"
      ],
      "metadata": {
        "colab": {
          "base_uri": "https://localhost:8080/"
        },
        "id": "StzYSYoY2MXL",
        "outputId": "c763be8f-f2aa-4c44-855a-2ff91b225a6c"
      },
      "execution_count": 2,
      "outputs": [
        {
          "output_type": "stream",
          "name": "stdout",
          "text": [
            "Downloading data from https://storage.googleapis.com/tensorflow/tf-keras-datasets/mnist.npz\n",
            "11490434/11490434 [==============================] - 0s 0us/step\n"
          ]
        }
      ]
    },
    {
      "cell_type": "code",
      "source": [
        "train_images.shape, test_images.shape"
      ],
      "metadata": {
        "colab": {
          "base_uri": "https://localhost:8080/"
        },
        "id": "gfo5reX32f02",
        "outputId": "3f68845a-e535-45cb-f458-e53b206615aa"
      },
      "execution_count": 3,
      "outputs": [
        {
          "output_type": "execute_result",
          "data": {
            "text/plain": [
              "((60000, 28, 28), (10000, 28, 28))"
            ]
          },
          "metadata": {},
          "execution_count": 3
        }
      ]
    },
    {
      "cell_type": "code",
      "source": [
        "import matplotlib.pyplot as plt \n",
        "digit = train_images[4] \n",
        "plt.imshow(digit, cmap=plt.cm.binary) \n",
        "plt.show()"
      ],
      "metadata": {
        "colab": {
          "base_uri": "https://localhost:8080/",
          "height": 265
        },
        "id": "D7WCJYHaONV0",
        "outputId": "2e4e024f-5c18-47ca-d46c-841cbf18978d"
      },
      "execution_count": 4,
      "outputs": [
        {
          "output_type": "display_data",
          "data": {
            "text/plain": [
              "<Figure size 432x288 with 1 Axes>"
            ],
            "image/png": "[encoded data removed]"
          },
          "metadata": {
            "needs_background": "light"
          }
        }
      ]
    },
    {
      "cell_type": "code",
      "source": [
        "train_labels"
      ],
      "metadata": {
        "colab": {
          "base_uri": "https://localhost:8080/"
        },
        "id": "lG5Cbw5J2saI",
        "outputId": "de6eeb6f-93de-4dbd-b2dd-90ec6f58e0c7"
      },
      "execution_count": 5,
      "outputs": [
        {
          "output_type": "execute_result",
          "data": {
            "text/plain": [
              "array([5, 0, 4, ..., 5, 6, 8], dtype=uint8)"
            ]
          },
          "metadata": {},
          "execution_count": 5
        }
      ]
    },
    {
      "cell_type": "code",
      "source": [
        "model = keras.Sequential([\n",
        "    layers.Dense(784, activation=\"sigmoid\"),\n",
        "    layers.Dense(16, activation=\"sigmoid\"),\n",
        "    layers.Dense(16, activation=\"sigmoid\"),\n",
        "    layers.Dense(10, activation=\"softmax\")\n",
        "])"
      ],
      "metadata": {
        "id": "ETL_k16v22R8"
      },
      "execution_count": 6,
      "outputs": []
    },
    {
      "cell_type": "code",
      "source": [
        "model.compile(\n",
        "    optimizer=\"adam\",\n",
        "    loss=\"sparse_categorical_crossentropy\",\n",
        "    metrics=['accuracy']\n",
        ")"
      ],
      "metadata": {
        "id": "Hw1v95zUNiKz"
      },
      "execution_count": 7,
      "outputs": []
    },
    {
      "cell_type": "code",
      "source": [
        "train_images = train_images.reshape((60000, 28 * 28))\n",
        "train_images = train_images.astype(\"float32\") / 255\n",
        "test_images = test_images.reshape((10000, 28 * 28))\n",
        "test_images = test_images.astype(\"float32\") / 255\n"
      ],
      "metadata": {
        "id": "ftVCxGrdOQs5"
      },
      "execution_count": 8,
      "outputs": []
    },
    {
      "cell_type": "code",
      "source": [
        "model.fit(\n",
        "    train_images, \n",
        "    train_labels, \n",
        "    epochs=5, \n",
        "    batch_size=128)"
      ],
      "metadata": {
        "colab": {
          "base_uri": "https://localhost:8080/"
        },
        "id": "o-G19zKeN0Uu",
        "outputId": "e42efc81-c618-4f3f-a6ce-7d9883f16419"
      },
      "execution_count": 9,
      "outputs": [
        {
          "output_type": "stream",
          "name": "stdout",
          "text": [
            "Epoch 1/5\n",
            "469/469 [==============================] - 5s 5ms/step - loss: 1.5750 - accuracy: 0.6793\n",
            "Epoch 2/5\n",
            "469/469 [==============================] - 2s 5ms/step - loss: 0.6541 - accuracy: 0.9079\n",
            "Epoch 3/5\n",
            "469/469 [==============================] - 2s 5ms/step - loss: 0.3333 - accuracy: 0.9422\n",
            "Epoch 4/5\n",
            "469/469 [==============================] - 2s 5ms/step - loss: 0.2162 - accuracy: 0.9582\n",
            "Epoch 5/5\n",
            "469/469 [==============================] - 3s 5ms/step - loss: 0.1587 - accuracy: 0.9675\n"
          ]
        },
        {
          "output_type": "execute_result",
          "data": {
            "text/plain": [
              "<keras.callbacks.History at 0x7f2473199fd0>"
            ]
          },
          "metadata": {},
          "execution_count": 9
        }
      ]
    },
    {
      "cell_type": "code",
      "source": [
        "test_loss, test_acc = model.evaluate(test_images, test_labels)"
      ],
      "metadata": {
        "colab": {
          "base_uri": "https://localhost:8080/"
        },
        "id": "VMkkY0FXOV04",
        "outputId": "09a1190d-780a-45b0-e580-9e05d45b10cb"
      },
      "execution_count": 10,
      "outputs": [
        {
          "output_type": "stream",
          "name": "stdout",
          "text": [
            "313/313 [==============================] - 1s 2ms/step - loss: 0.1618 - accuracy: 0.9663\n"
          ]
        }
      ]
    },
    {
      "cell_type": "code",
      "source": [
        "print(f\"test_acc:{test_acc}\")"
      ],
      "metadata": {
        "colab": {
          "base_uri": "https://localhost:8080/"
        },
        "id": "N3D_xntpPfc-",
        "outputId": "1eb7dd69-9c01-43c2-f29f-220bf7492d8c"
      },
      "execution_count": 11,
      "outputs": [
        {
          "output_type": "stream",
          "name": "stdout",
          "text": [
            "test_acc:0.9663000106811523\n"
          ]
        }
      ]
    },
    {
      "cell_type": "markdown",
      "source": [
        "# Now let's build a CNN "
      ],
      "metadata": {
        "id": "9BPpjXxt41mQ"
      }
    },
    {
      "cell_type": "code",
      "source": [
        "model_cnn = keras.Sequential([\n",
        "    keras.Input(shape=(28, 28, 1)),\n",
        "    layers.Conv2D(filters=32, kernel_size=(3), activation=\"relu\"),\n",
        "    layers.MaxPooling2D(pool_size=2),\n",
        "    layers.Conv2D(filters=64, kernel_size=3, activation=\"relu\"),\n",
        "    layers.MaxPooling2D(pool_size=2),\n",
        "    layers.Conv2D(filters=128, kernel_size=3, activation=\"relu\"),\n",
        "    layers.Flatten(),\n",
        "    layers.Dense(10, activation=\"softmax\")\n",
        "]) "
      ],
      "metadata": {
        "id": "9-70NK8xPj_2"
      },
      "execution_count": 37,
      "outputs": []
    },
    {
      "cell_type": "code",
      "source": [
        "(train_images, train_labels), (test_images, test_labels) = mnist.load_data()"
      ],
      "metadata": {
        "id": "FVncqbjd4z8_"
      },
      "execution_count": 38,
      "outputs": []
    },
    {
      "cell_type": "code",
      "source": [
        "train_images = train_images.reshape((60000, 28, 28, 1))\n",
        "train_images = train_images.astype(\"float32\") / 255\n",
        "test_images = test_images.reshape((10000, 28, 28, 1))\n",
        "test_images = test_images.astype(\"float32\") / 255\n"
      ],
      "metadata": {
        "id": "YfzBEDbd54cb"
      },
      "execution_count": 39,
      "outputs": []
    },
    {
      "cell_type": "code",
      "source": [
        "model_cnn.compile(\n",
        "    optimizer=\"rmsprop\",\n",
        "    loss=\"sparse_categorical_crossentropy\",\n",
        "    metrics=['accuracy']\n",
        ")"
      ],
      "metadata": {
        "id": "BKlm008P6aCA"
      },
      "execution_count": 40,
      "outputs": []
    },
    {
      "cell_type": "code",
      "source": [
        "model_cnn.fit(train_images, train_labels, epochs=5, batch_size=128)"
      ],
      "metadata": {
        "colab": {
          "base_uri": "https://localhost:8080/"
        },
        "id": "0S5KeKT96dUv",
        "outputId": "4f75bdf9-4866-41af-9977-55c06dab6d7b"
      },
      "execution_count": 41,
      "outputs": [
        {
          "output_type": "stream",
          "name": "stdout",
          "text": [
            "Epoch 1/5\n",
            "469/469 [==============================] - 3s 5ms/step - loss: 0.2049 - accuracy: 0.9364\n",
            "Epoch 2/5\n",
            "469/469 [==============================] - 2s 5ms/step - loss: 0.0507 - accuracy: 0.9844\n",
            "Epoch 3/5\n",
            "469/469 [==============================] - 2s 5ms/step - loss: 0.0346 - accuracy: 0.9896\n",
            "Epoch 4/5\n",
            "469/469 [==============================] - 2s 5ms/step - loss: 0.0252 - accuracy: 0.9922\n",
            "Epoch 5/5\n",
            "469/469 [==============================] - 2s 5ms/step - loss: 0.0200 - accuracy: 0.9940\n"
          ]
        },
        {
          "output_type": "execute_result",
          "data": {
            "text/plain": [
              "<keras.callbacks.History at 0x7f23e77f4dd0>"
            ]
          },
          "metadata": {},
          "execution_count": 41
        }
      ]
    },
    {
      "cell_type": "code",
      "source": [
        "test_loss, test_acc = model_cnn.evaluate(test_images, test_labels)"
      ],
      "metadata": {
        "colab": {
          "base_uri": "https://localhost:8080/"
        },
        "id": "iRJK6Kss6k8O",
        "outputId": "ac39de55-7d54-41ee-8089-bd320de302bc"
      },
      "execution_count": 42,
      "outputs": [
        {
          "output_type": "stream",
          "name": "stdout",
          "text": [
            "313/313 [==============================] - 1s 3ms/step - loss: 0.0239 - accuracy: 0.9926\n"
          ]
        }
      ]
    },
    {
      "cell_type": "code",
      "source": [
        "print(f\"test_acc:{test_acc}\")"
      ],
      "metadata": {
        "colab": {
          "base_uri": "https://localhost:8080/"
        },
        "id": "d36F3sKn72EJ",
        "outputId": "c43bbd49-4439-498c-e24d-24aecb073586"
      },
      "execution_count": 43,
      "outputs": [
        {
          "output_type": "stream",
          "name": "stdout",
          "text": [
            "test_acc:0.9926000237464905\n"
          ]
        }
      ]
    },
    {
      "cell_type": "markdown",
      "source": [
        "# There are other ways of writing the same model"
      ],
      "metadata": {
        "id": "LaEMrtKlERSi"
      }
    },
    {
      "cell_type": "code",
      "source": [
        "inputs = keras.Input(shape=(28, 28, 1))\n",
        "x = layers.Conv2D(filters=32, kernel_size=(3), activation=\"relu\") (inputs)\n",
        "x = layers.MaxPooling2D(pool_size=2) (x)\n",
        "x = layers.Conv2D(filters=64, kernel_size=3, activation=\"relu\") (x)\n",
        "x = layers.MaxPooling2D(pool_size=2) (x)\n",
        "x = layers.Conv2D(filters=128, kernel_size=3, activation=\"relu\") (x)\n",
        "x = layers.Flatten() (x)\n",
        "outputs = layers.Dense(10, activation=\"softmax\") (x)\n",
        "model_cnn_2 = keras.Model(inputs=inputs, outputs=outputs)"
      ],
      "metadata": {
        "id": "TgftXSx979QC"
      },
      "execution_count": 44,
      "outputs": []
    },
    {
      "cell_type": "code",
      "source": [
        "model_cnn_2.summary()"
      ],
      "metadata": {
        "colab": {
          "base_uri": "https://localhost:8080/"
        },
        "id": "yzkCY9BCFDMF",
        "outputId": "943d40f6-6c4e-4ce0-bd4b-c3ea485189c8"
      },
      "execution_count": 50,
      "outputs": [
        {
          "output_type": "stream",
          "name": "stdout",
          "text": [
            "Model: \"model\"\n",
            "_________________________________________________________________\n",
            " Layer (type)                Output Shape              Param #   \n",
            "=================================================================\n",
            " input_3 (InputLayer)        [(None, 28, 28, 1)]       0         \n",
            "                                                                 \n",
            " conv2d_15 (Conv2D)          (None, 26, 26, 32)        320       \n",
            "                                                                 \n",
            " max_pooling2d_10 (MaxPoolin  (None, 13, 13, 32)       0         \n",
            " g2D)                                                            \n",
            "                                                                 \n",
            " conv2d_16 (Conv2D)          (None, 11, 11, 64)        18496     \n",
            "                                                                 \n",
            " max_pooling2d_11 (MaxPoolin  (None, 5, 5, 64)         0         \n",
            " g2D)                                                            \n",
            "                                                                 \n",
            " conv2d_17 (Conv2D)          (None, 3, 3, 128)         73856     \n",
            "                                                                 \n",
            " flatten_5 (Flatten)         (None, 1152)              0         \n",
            "                                                                 \n",
            " dense_9 (Dense)             (None, 10)                11530     \n",
            "                                                                 \n",
            "=================================================================\n",
            "Total params: 104,202\n",
            "Trainable params: 104,202\n",
            "Non-trainable params: 0\n",
            "_________________________________________________________________\n"
          ]
        }
      ]
    },
    {
      "cell_type": "code",
      "source": [
        "model_cnn_2.compile(\n",
        "    optimizer=\"rmsprop\",\n",
        "    loss=\"sparse_categorical_crossentropy\",\n",
        "    metrics=['accuracy']\n",
        ")"
      ],
      "metadata": {
        "id": "P0pHEM3AE0T2"
      },
      "execution_count": 45,
      "outputs": []
    },
    {
      "cell_type": "code",
      "source": [
        "model_cnn_2.fit(train_images, train_labels, epochs=5, batch_size=128)"
      ],
      "metadata": {
        "colab": {
          "base_uri": "https://localhost:8080/"
        },
        "id": "KZyTA8W1E3m9",
        "outputId": "eb68146f-6e8e-4f24-9415-7d6d3bf55af6"
      },
      "execution_count": 46,
      "outputs": [
        {
          "output_type": "stream",
          "name": "stdout",
          "text": [
            "Epoch 1/5\n",
            "469/469 [==============================] - 3s 6ms/step - loss: 0.2020 - accuracy: 0.9371\n",
            "Epoch 2/5\n",
            "469/469 [==============================] - 2s 5ms/step - loss: 0.0534 - accuracy: 0.9834\n",
            "Epoch 3/5\n",
            "469/469 [==============================] - 3s 6ms/step - loss: 0.0353 - accuracy: 0.9891\n",
            "Epoch 4/5\n",
            "469/469 [==============================] - 3s 7ms/step - loss: 0.0258 - accuracy: 0.9917\n",
            "Epoch 5/5\n",
            "469/469 [==============================] - 3s 6ms/step - loss: 0.0205 - accuracy: 0.9935\n"
          ]
        },
        {
          "output_type": "execute_result",
          "data": {
            "text/plain": [
              "<keras.callbacks.History at 0x7f24602a0b90>"
            ]
          },
          "metadata": {},
          "execution_count": 46
        }
      ]
    },
    {
      "cell_type": "code",
      "source": [
        "test_loss, test_acc = model_cnn_2.evaluate(test_images, test_labels)"
      ],
      "metadata": {
        "colab": {
          "base_uri": "https://localhost:8080/"
        },
        "id": "bn1uKAdrE5ve",
        "outputId": "c013e545-cd93-410f-8f62-5612c93d2be3"
      },
      "execution_count": 47,
      "outputs": [
        {
          "output_type": "stream",
          "name": "stdout",
          "text": [
            "313/313 [==============================] - 1s 3ms/step - loss: 0.0261 - accuracy: 0.9920\n"
          ]
        }
      ]
    },
    {
      "cell_type": "code",
      "source": [
        "print(f\"test_acc:{test_acc}\")"
      ],
      "metadata": {
        "colab": {
          "base_uri": "https://localhost:8080/"
        },
        "id": "1B2ZXBVtE9H6",
        "outputId": "a9526ed7-aeec-466d-c643-094537e4ec25"
      },
      "execution_count": 48,
      "outputs": [
        {
          "output_type": "stream",
          "name": "stdout",
          "text": [
            "test_acc:0.9919999837875366\n"
          ]
        }
      ]
    },
    {
      "cell_type": "code",
      "source": [],
      "metadata": {
        "id": "oFH8DrJ7E-xR"
      },
      "execution_count": null,
      "outputs": []
    }
  ]
}